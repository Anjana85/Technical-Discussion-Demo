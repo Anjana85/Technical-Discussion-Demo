{
  "nbformat": 4,
  "nbformat_minor": 0,
  "metadata": {
    "colab": {
      "name": "TechDemo.ipynb",
      "provenance": [],
      "authorship_tag": "ABX9TyMq4nusk1lBwa1gzZj7VrXL",
      "include_colab_link": true
    },
    "kernelspec": {
      "name": "python3",
      "display_name": "Python 3"
    },
    "language_info": {
      "name": "python"
    }
  },
  "cells": [
    {
      "cell_type": "markdown",
      "metadata": {
        "id": "view-in-github",
        "colab_type": "text"
      },
      "source": [
        "<a href=\"https://colab.research.google.com/github/Anjana85/Technical-Discussion-Demo/blob/main/TechDemo.ipynb\" target=\"_parent\"><img src=\"https://colab.research.google.com/assets/colab-badge.svg\" alt=\"Open In Colab\"/></a>"
      ]
    },
    {
      "cell_type": "markdown",
      "metadata": {
        "id": "kHRcCELPT1hK"
      },
      "source": [
        " ### Heading\n"
      ]
    },
    {
      "cell_type": "code",
      "metadata": {
        "colab": {
          "base_uri": "https://localhost:8080/",
          "height": 35
        },
        "id": "J80I1bPCOcwD",
        "outputId": "fa2c89da-c39b-497c-e5da-a36575095ea5"
      },
      "source": [
        "def Hi():\n",
        "  return \"Hi\"\n",
        "Hi()"
      ],
      "execution_count": 2,
      "outputs": [
        {
          "output_type": "execute_result",
          "data": {
            "application/vnd.google.colaboratory.intrinsic+json": {
              "type": "string"
            },
            "text/plain": [
              "'Hi'"
            ]
          },
          "metadata": {
            "tags": []
          },
          "execution_count": 2
        }
      ]
    },
    {
      "cell_type": "code",
      "metadata": {
        "id": "e89QLaBDTDOz"
      },
      "source": [
        ""
      ],
      "execution_count": null,
      "outputs": []
    },
    {
      "cell_type": "markdown",
      "metadata": {
        "id": "Q0JleMtwUCVu"
      },
      "source": [
        "### EDA"
      ]
    },
    {
      "cell_type": "code",
      "metadata": {
        "id": "seJyjaVlUFZh"
      },
      "source": [
        ""
      ],
      "execution_count": null,
      "outputs": []
    },
    {
      "cell_type": "markdown",
      "metadata": {
        "id": "03PyDUm0UK8X"
      },
      "source": [
        "### Modeling\n",
        "  * One\n",
        "  * Two\n",
        "  * Three"
      ]
    },
    {
      "cell_type": "code",
      "metadata": {
        "id": "TgUvJGrAUQNt"
      },
      "source": [
        ""
      ],
      "execution_count": 2,
      "outputs": []
    },
    {
      "cell_type": "markdown",
      "metadata": {
        "id": "kmOp7566USd5"
      },
      "source": [
        "### Conclusion"
      ]
    },
    {
      "cell_type": "code",
      "metadata": {
        "id": "dLPZYT8qUXA9"
      },
      "source": [
        ""
      ],
      "execution_count": null,
      "outputs": []
    }
  ]
}